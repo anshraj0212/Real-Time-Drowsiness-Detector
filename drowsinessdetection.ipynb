{
 "cells": [
  {
   "cell_type": "code",
   "execution_count": null,
   "metadata": {},
   "outputs": [],
   "source": [
    "import cv2\n",
    "import dlib\n",
    "from scipy.spatial import distance\n",
    "\n",
    "# Load face detector and facial landmarks predictor\n",
    "face_detector = dlib.get_frontal_face_detector()\n",
    "landmark_predictor = dlib.shape_predictor(\"shape_predictor_68_face_landmarks.dat\")\n",
    "\n",
    "def eye_aspect_ratio(eye):\n",
    "    A = distance.euclidean(eye[1], eye[5])\n",
    "    B = distance.euclidean(eye[2], eye[4])\n",
    "    C = distance.euclidean(eye[0], eye[3])\n",
    "    return (A + B) / (2.0 * C)\n",
    "\n",
    "# Define eye landmarks\n",
    "LEFT_EYE = list(range(42, 48))\n",
    "RIGHT_EYE = list(range(36, 42))\n",
    "\n",
    "cap = cv2.VideoCapture(0)\n",
    "frame_counter = 0\n",
    "EAR_THRESHOLD = 0.25  \n",
    "EAR_CONSEC_FRAMES = 20 \n",
    "\n",
    "while True:\n",
    "    ret, frame = cap.read()\n",
    "    if not ret:\n",
    "        break\n",
    "\n",
    "    gray = cv2.cvtColor(frame, cv2.COLOR_BGR2GRAY)\n",
    "    faces = face_detector(gray)\n",
    "\n",
    "    for face in faces:\n",
    "        landmarks = landmark_predictor(gray, face)\n",
    "\n",
    "        left_eye = [(landmarks.part(i).x, landmarks.part(i).y) for i in LEFT_EYE]\n",
    "        right_eye = [(landmarks.part(i).x, landmarks.part(i).y) for i in RIGHT_EYE]\n",
    "\n",
    "        ear_left = eye_aspect_ratio(left_eye)\n",
    "        ear_right = eye_aspect_ratio(right_eye)\n",
    "        ear = (ear_left + ear_right) / 2.0\n",
    "\n",
    "        if ear < EAR_THRESHOLD:\n",
    "            frame_counter += 1\n",
    "            if frame_counter >= EAR_CONSEC_FRAMES:\n",
    "                cv2.putText(frame, \"DROWSINESS ALERT!\", (50, 100), \n",
    "                            cv2.FONT_HERSHEY_SIMPLEX, 1.5, (0, 0, 255), 3)\n",
    "        else:\n",
    "            frame_counter = 0\n",
    "    cv2.namedWindow(\"Drowsiness Detection\", cv2.WND_PROP_FULLSCREEN)\n",
    "    cv2.setWindowProperty(\"Drowsiness Detection\", cv2.WND_PROP_FULLSCREEN, cv2.WINDOW_FULLSCREEN)\n",
    "\n",
    "    cv2.imshow(\"Drowsiness Detection\", frame)\n",
    "    \n",
    "    if cv2.waitKey(1) & 0xFF == ord(\"q\"):\n",
    "        break\n",
    "\n",
    "cap.release()\n",
    "cv2.destroyAllWindows()"
   ]
  },
  {
   "cell_type": "code",
   "execution_count": null,
   "metadata": {},
   "outputs": [],
   "source": []
  },
  {
   "cell_type": "code",
   "execution_count": null,
   "metadata": {},
   "outputs": [],
   "source": []
  },
  {
   "cell_type": "code",
   "execution_count": null,
   "metadata": {},
   "outputs": [],
   "source": []
  }
 ],
 "metadata": {
  "kernelspec": {
   "display_name": "Python 3",
   "language": "python",
   "name": "python3"
  },
  "language_info": {
   "codemirror_mode": {
    "name": "ipython",
    "version": 3
   },
   "file_extension": ".py",
   "mimetype": "text/x-python",
   "name": "python",
   "nbconvert_exporter": "python",
   "pygments_lexer": "ipython3",
   "version": "3.6.6"
  }
 },
 "nbformat": 4,
 "nbformat_minor": 2
}
